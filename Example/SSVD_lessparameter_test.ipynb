{
 "cells": [
  {
   "cell_type": "code",
   "execution_count": null,
   "outputs": [],
   "source": [
    "## Code for testing the results of arXiv:2106.09021"
   ],
   "metadata": {
    "collapsed": false,
    "pycharm": {
     "name": "#%%\n"
    }
   }
  },
  {
   "cell_type": "code",
   "execution_count": null,
   "outputs": [],
   "source": [
    "from Less_parameters_functions import train_model\n",
    "import os\n",
    "from tqdm import tqdm"
   ],
   "metadata": {
    "collapsed": false,
    "pycharm": {
     "name": "#%%\n"
    }
   }
  },
  {
   "cell_type": "code",
   "execution_count": null,
   "outputs": [],
   "source": [
    "# Testing framework"
   ],
   "metadata": {
    "collapsed": false,
    "pycharm": {
     "name": "#%%\n"
    }
   }
  },
  {
   "cell_type": "code",
   "execution_count": null,
   "outputs": [],
   "source": [
    "current_dir = os.getcwd()\n",
    "n_list = [50, 100, 150, 200, 300]\n",
    "layer_types = ['Spectral_full', 'Dense', 'SSVD_full', 'QR']\n",
    "trials = 3"
   ],
   "metadata": {
    "collapsed": false,
    "pycharm": {
     "name": "#%%\n"
    }
   }
  },
  {
   "cell_type": "code",
   "execution_count": null,
   "outputs": [],
   "source": [
    "configuration = {'n2': None,\n",
    "                 'save_path': os.path.join(current_dir, 'Results'),\n",
    "                 'type': None,\n",
    "                 'dataset': 'MNIST',\n",
    "                 'learning_rate': 0.015,\n",
    "                 'batch_size': 200,\n",
    "                 'epochs': 90,\n",
    "                 'hidden_layers': 2}\n",
    "\n",
    "for n in n_list:\n",
    "    for lay_type in layer_types:\n",
    "        configuration['n2'] = n\n",
    "        configuration['type'] = lay_type\n",
    "        print('\\n{} hidden layers of size {}\\n'.format(configuration['hidden_layers'], n ))\n",
    "\n",
    "        for t in tqdm(range(trials)):\n",
    "            train_model(config=configuration)"
   ],
   "metadata": {
    "collapsed": false,
    "pycharm": {
     "name": "#%%\n"
    }
   }
  }
 ],
 "metadata": {
  "kernelspec": {
   "display_name": "Python 3",
   "language": "python",
   "name": "python3"
  },
  "language_info": {
   "codemirror_mode": {
    "name": "ipython",
    "version": 2
   },
   "file_extension": ".py",
   "mimetype": "text/x-python",
   "name": "python",
   "nbconvert_exporter": "python",
   "pygments_lexer": "ipython2",
   "version": "2.7.6"
  }
 },
 "nbformat": 4,
 "nbformat_minor": 0
}
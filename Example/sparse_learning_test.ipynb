{
 "cells": [
  {
   "cell_type": "code",
   "execution_count": null,
   "metadata": {
    "collapsed": true,
    "pycharm": {
     "name": "#%%\n"
    }
   },
   "outputs": [],
   "source": [
    "## Code for testing the results of arXiv:2106.09021"
   ]
  },
  {
   "cell_type": "code",
   "execution_count": null,
   "outputs": [],
   "source": [
    "from Example.sparse_functions import sparse_training\n",
    "from os import getcwd\n",
    "from os.path import join\n",
    "from tqdm import tqdm"
   ],
   "metadata": {
    "collapsed": false,
    "pycharm": {
     "name": "#%%\n"
    }
   }
  },
  {
   "cell_type": "code",
   "execution_count": null,
   "outputs": [],
   "source": [
    "layer_types = ['Dense_sparse', 'QR_sparse']\n",
    "percentiles = [50, 70, 80, 85, 90, 95, 98]\n",
    "trials = 3\n",
    "\n",
    "configuration = {'n2': 500,\n",
    "                 'type':  None,\n",
    "                 'path': join(getcwd(),'QR_sparse'),\n",
    "                 'dataset': 'MNIST',\n",
    "                 'batch_size': 200,\n",
    "                 'epochs': 90,\n",
    "                 'hidden_layers': 2,\n",
    "                 'dyn_sparse': True,\n",
    "                 'percentile': None}\n",
    "\n",
    "for lay_type in layer_types:\n",
    "    for perc in percentiles:\n",
    "        configuration['type'] = lay_type\n",
    "        configuration['percentile'] = perc\n",
    "        print('\\nLayer type: {}, percentile of zeros in the direct space: {}'.format(configuration['type'], configuration['percentile'] ))\n",
    "        for t in tqdm(range(trials)):\n",
    "            sparse_training(configur=configuration)"
   ],
   "metadata": {
    "collapsed": false,
    "pycharm": {
     "name": "#%%\n"
    }
   }
  }
 ],
 "metadata": {
  "kernelspec": {
   "display_name": "Python 3",
   "language": "python",
   "name": "python3"
  },
  "language_info": {
   "codemirror_mode": {
    "name": "ipython",
    "version": 2
   },
   "file_extension": ".py",
   "mimetype": "text/x-python",
   "name": "python",
   "nbconvert_exporter": "python",
   "pygments_lexer": "ipython2",
   "version": "2.7.6"
  }
 },
 "nbformat": 4,
 "nbformat_minor": 0
}